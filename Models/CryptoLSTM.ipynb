{
  "cells": [
    {
      "cell_type": "code",
      "execution_count": null,
      "metadata": {
        "id": "ThJavn73v8xN"
      },
      "outputs": [],
      "source": [
        "import pandas as pd\n",
        "import torch \n",
        "from torch import nn\n",
        "import matplotlib.pyplot as plt\n",
        "from sklearn.preprocessing import StandardScaler\n",
        "from torch.utils.data import Dataset, DataLoader\n",
        "import numpy as np\n",
        "from sklearn.preprocessing import StandardScaler, MinMaxScaler\n",
        "import copy"
      ]
    },
    {
      "cell_type": "code",
      "source": [
        "dados = [['open', 'high', 'low', 'close', 'volume'], \n",
        "         ['1572.69000000', '1612.92000000', '1563.69000000', '1578.48000000', '527539.29650000'], \n",
        "         ['1578.47000000', '1621.68000000', '1502.32000000', '1518.34000000', '981395.36480000'], \n",
        "         ['1518.33000000', '1559.01000000', '1515.17000000', '1531.01000000', '560202.88130000'], \n",
        "         ['1531.01000000', '1680.00000000', '1528.40000000', '1644.78000000', '935531.47810000'], \n",
        "         ['1644.78000000', '1666.97000000', '1621.42000000', '1626.98000000', '351385.53620000'], \n",
        "         ['1626.98000000', '1639.02000000', '1564.39000000', '1568.29000000', '414863.95250000'], \n",
        "         ['1568.25000000', '1608.04000000', '1545.03000000', '1568.10000000', '642409.44940000'], \n",
        "         ['1568.09000000', '1579.98000000', '1233.00000000', '1334.77000000', '2339916.50890000'], \n",
        "         ['1334.78000000', '1337.16000000', '1073.53000000', '1102.73000000', '2494797.93570000'], \n",
        "         ['1102.73000000', '1350.00000000', '1085.93000000', '1299.28000000', '1975955.67670000'], \n",
        "         ['1299.28000000', '1310.00000000', '1201.26000000', '1289.28000000', '1308087.14980000'], \n",
        "         ['1289.35000000', '1292.16000000', '1238.70000000', '1257.25000000', '547772.91720000'], \n",
        "         ['1257.25000000', '1274.23000000', '1200.66000000', '1221.49000000', '547410.53040000'], \n",
        "         ['1221.50000000', '1291.20000000', '1171.13000000', '1243.28000000', '934742.00590000'], \n",
        "         ['1243.29000000', '1291.00000000', '1234.01000000', '1253.23000000', '632825.56800000'], \n",
        "         ['1253.22000000', '1268.67000000', '1187.06000000', '1216.17000000', '673339.72150000'], \n",
        "         ['1216.16000000', '1228.22000000', '1181.05000000', '1200.43000000', '530537.34880000'], \n",
        "         ['1200.42000000', '1234.00000000', '1199.18000000', '1212.58000000', '360218.53370000'], \n",
        "         ['1212.58000000', '1235.00000000', '1197.67000000', '1217.67000000', '209789.58880000'],\n",
        "         ['1217.67000000', '1227.07000000', '1132.65000000', '1142.21000000', '531108.76070000'], \n",
        "         ['1142.21000000', '1146.99000000', '1079.76000000', '1107.34000000', '922647.94540000'], \n",
        "         ['1107.34000000', '1146.13000000', '1075.00000000', '1139.60000000', '748884.57910000'], \n",
        "         ['1139.59000000', '1190.00000000', '1127.75000000', '1184.52000000', '636927.15940000'], \n",
        "         ['1184.52000000', '1217.71000000', '1180.60000000', '1203.73000000', '486080.61230000'], \n",
        "         ['1203.72000000', '1207.77000000', '1171.20000000', '1199.30000000', '391430.16580000'], \n",
        "         ['1199.29000000', '1235.66000000', '1196.20000000', '1205.60000000', '379840.81160000'], \n",
        "         ['1205.61000000', '1223.33000000', '1188.65000000', '1193.88000000', '286386.79860000'], \n",
        "         ['1193.88000000', '1199.25000000', '1151.02000000', '1167.77000000', '478795.60930000'], \n",
        "         ['1167.77000000', '1228.37000000', '1158.27000000', '1216.49000000', '512143.58610000'], \n",
        "         ['1216.49000000', '1309.77000000', '1212.50000000', '1294.46000000', '815679.27170000'], \n",
        "         ['1294.46000000', '1299.90000000', '1262.77000000', '1276.41000000', '430018.73910000'], \n",
        "         ['1276.40000000', '1297.18000000', '1265.24000000', '1295.59000000', '371559.58500000'], \n",
        "         ['1295.58000000', '1309.00000000', '1236.26000000', '1240.51000000', '347148.25880000'], \n",
        "         ['1240.50000000', '1287.19000000', '1240.10000000', '1279.41000000', '324129.54660000'], \n",
        "         ['1279.40000000', '1305.11000000', '1246.61000000', '1259.41000000', '391628.51660000'], \n",
        "         ['1259.41000000', '1274.76000000', '1241.56000000', '1271.32000000', '301631.83900000'], \n",
        "         ['1271.31000000', '1278.69000000', '1218.01000000', '1231.18000000', '398559.51660000'], \n",
        "         ['1231.18000000', '1292.58000000', '1222.01000000', '1280.18000000', '406653.54470000'], \n",
        "         ['1280.18000000', '1296.64000000', '1250.00000000', '1263.10000000', '406008.00320000'], \n",
        "         ['1263.11000000', '1283.61000000', '1259.60000000', '1266.35000000', '182278.63960000'], \n",
        "         ['1266.35000000', '1284.75000000', '1255.85000000', '1263.01000000', '180494.90200000'], \n",
        "         ['1263.00000000', '1278.90000000', '1240.03000000', '1275.40000000', '363750.54810000'], \n",
        "         ['1275.41000000', '1349.00000000', '1255.10000000', '1320.69000000', '659393.88250000'], \n",
        "         ['1320.69000000', '1352.72000000', '1301.00000000', '1307.44000000', '554465.57170000'], \n",
        "         ['1307.45000000', '1311.14000000', '1259.27000000', '1266.54000000', '390051.24470000'], \n",
        "         ['1266.53000000', '1280.06000000', '1155.32000000', '1166.83000000', '751422.27790000'], \n",
        "         ['1166.82000000', '1190.03000000', '1161.92000000', '1187.16000000', '328881.62810000'], \n",
        "         ['1187.16000000', '1199.54000000', '1170.32000000', '1183.06000000', '252260.14400000'], \n",
        "         ['1183.06000000', '1195.00000000', '1150.51000000', '1167.82000000', '296832.72280000'], \n",
        "         ['1167.82000000', '1230.47000000', '1163.12000000', '1216.94000000', '465184.19430000'], \n",
        "         ['1216.95000000', '1223.39000000', '1203.02000000', '1213.78000000', '245723.83770000'], \n",
        "         ['1213.78000000', '1237.99000000', '1182.54000000', '1217.71000000', '336761.65980000'], \n",
        "         ['1217.72000000', '1231.99000000', '1210.00000000', '1219.99000000', '278604.28820000'], \n",
        "         ['1219.98000000', '1227.99000000', '1214.69000000', '1220.41000000', '123701.53010000'], \n",
        "         ['1220.42000000', '1225.00000000', '1193.18000000', '1218.51000000', '231652.06120000'], \n",
        "         ['1218.52000000', '1231.09000000', '1211.67000000', '1228.11000000', '162723.08570000'], \n",
        "         ['1228.12000000', '1233.73000000', '1200.58000000', '1211.55000000', '262437.63980000'], \n",
        "         ['1211.55000000', '1215.78000000', '1181.06000000', '1190.15000000', '367828.89140000'], \n",
        "         ['1190.15000000', '1206.57000000', '1186.77000000', '1200.49000000', '249130.48690000'], \n",
        "         ['1200.48000000', '1202.15000000', '1181.08000000', '1199.99000000', '266014.21150000'], \n",
        "         ['1199.98000000', '1208.46000000', '1191.66000000', '1196.13000000', '139379.28110000'], \n",
        "         ['1196.13000000', '1204.67000000', '1190.57000000', '1200.34000000', '117762.06850000'], \n",
        "         ['1200.33000000', '1224.29000000', '1193.00000000', '1214.00000000', '252794.14000000'], \n",
        "         ['1213.99000000', '1219.89000000', '1204.93000000', '1214.55000000', '205519.49440000'], \n",
        "         ['1214.56000000', '1272.60000000', '1212.71000000', '1256.90000000', '457799.66480000'], \n",
        "         ['1256.91000000', '1259.95000000', '1242.81000000', '1251.24000000', '272805.33000000'], \n",
        "         ['1251.25000000', '1276.70000000', '1236.00000000', '1269.14000000', '342344.20230000'], \n",
        "         ['1269.13000000', '1271.09000000', '1261.30000000', '1264.07000000', '129474.28840000'],\n",
        "         ['1264.06000000', '1296.00000000', '1257.77000000', '1290.16000000', '213636.78480000'], \n",
        "         ['1290.15000000', '1344.91000000', '1285.44000000', '1320.39000000', '581727.69680000'], \n",
        "         ['1320.40000000', '1347.69000000', '1316.80000000', '1335.62000000', '459660.23070000'], \n",
        "         ['1335.63000000', '1398.00000000', '1321.04000000', '1389.39000000', '472465.95560000'],\n",
        "         ['1389.40000000', '1438.00000000', '1361.92000000', '1415.92000000', '877712.44920000'], \n",
        "         ['1415.91000000', '1464.00000000', '1401.03000000', '1451.20000000', '499377.86490000'], \n",
        "         ['1451.21000000', '1599.98000000', '1449.14000000', '1549.90000000', '940691.77740000'], \n",
        "         ['1549.91000000', '1566.66000000', '1516.03000000', '1552.52000000', '387832.71380000'], \n",
        "         ['1552.52000000', '1604.50000000', '1521.31000000', '1576.94000000', '574622.89530000'], \n",
        "         ['1576.94000000', '1609.00000000', '1541.15000000', '1565.57000000', '506771.72190000'],\n",
        "         ['1565.56000000', '1610.00000000', '1501.39000000', '1511.43000000', '752534.88570000'], \n",
        "         ['1511.44000000', '1564.43000000', '1509.15000000', '1551.09000000', '308679.46450000'], \n",
        "         ['1551.09000000', '1669.90000000', '1542.02000000', '1659.29000000', '440513.62450000']]"
      ],
      "metadata": {
        "id": "W8_xqZ6ladL9"
      },
      "execution_count": null,
      "outputs": []
    },
    {
      "cell_type": "code",
      "source": [
        "np.savetxt(\"CryptoData.csv\",\n",
        "            dados,\n",
        "            delimiter= ',',\n",
        "            fmt ='% s')"
      ],
      "metadata": {
        "id": "LHHcEv_xbEHl"
      },
      "execution_count": null,
      "outputs": []
    },
    {
      "cell_type": "code",
      "source": [
        "df = pd.read_csv(\"/content/CryptoData.csv\")\n",
        "df.head()"
      ],
      "metadata": {
        "colab": {
          "base_uri": "https://localhost:8080/",
          "height": 206
        },
        "id": "9mWCHNb8bK22",
        "outputId": "77e77cb6-068d-4e15-8ef3-e5a1865e6c5b"
      },
      "execution_count": null,
      "outputs": [
        {
          "output_type": "execute_result",
          "data": {
            "text/plain": [
              "      open     high      low    close       volume\n",
              "0  1572.69  1612.92  1563.69  1578.48  527539.2965\n",
              "1  1578.47  1621.68  1502.32  1518.34  981395.3648\n",
              "2  1518.33  1559.01  1515.17  1531.01  560202.8813\n",
              "3  1531.01  1680.00  1528.40  1644.78  935531.4781\n",
              "4  1644.78  1666.97  1621.42  1626.98  351385.5362"
            ],
            "text/html": [
              "\n",
              "  <div id=\"df-92dc29ae-c409-4d96-9fb5-014c639260ce\">\n",
              "    <div class=\"colab-df-container\">\n",
              "      <div>\n",
              "<style scoped>\n",
              "    .dataframe tbody tr th:only-of-type {\n",
              "        vertical-align: middle;\n",
              "    }\n",
              "\n",
              "    .dataframe tbody tr th {\n",
              "        vertical-align: top;\n",
              "    }\n",
              "\n",
              "    .dataframe thead th {\n",
              "        text-align: right;\n",
              "    }\n",
              "</style>\n",
              "<table border=\"1\" class=\"dataframe\">\n",
              "  <thead>\n",
              "    <tr style=\"text-align: right;\">\n",
              "      <th></th>\n",
              "      <th>open</th>\n",
              "      <th>high</th>\n",
              "      <th>low</th>\n",
              "      <th>close</th>\n",
              "      <th>volume</th>\n",
              "    </tr>\n",
              "  </thead>\n",
              "  <tbody>\n",
              "    <tr>\n",
              "      <th>0</th>\n",
              "      <td>1572.69</td>\n",
              "      <td>1612.92</td>\n",
              "      <td>1563.69</td>\n",
              "      <td>1578.48</td>\n",
              "      <td>527539.2965</td>\n",
              "    </tr>\n",
              "    <tr>\n",
              "      <th>1</th>\n",
              "      <td>1578.47</td>\n",
              "      <td>1621.68</td>\n",
              "      <td>1502.32</td>\n",
              "      <td>1518.34</td>\n",
              "      <td>981395.3648</td>\n",
              "    </tr>\n",
              "    <tr>\n",
              "      <th>2</th>\n",
              "      <td>1518.33</td>\n",
              "      <td>1559.01</td>\n",
              "      <td>1515.17</td>\n",
              "      <td>1531.01</td>\n",
              "      <td>560202.8813</td>\n",
              "    </tr>\n",
              "    <tr>\n",
              "      <th>3</th>\n",
              "      <td>1531.01</td>\n",
              "      <td>1680.00</td>\n",
              "      <td>1528.40</td>\n",
              "      <td>1644.78</td>\n",
              "      <td>935531.4781</td>\n",
              "    </tr>\n",
              "    <tr>\n",
              "      <th>4</th>\n",
              "      <td>1644.78</td>\n",
              "      <td>1666.97</td>\n",
              "      <td>1621.42</td>\n",
              "      <td>1626.98</td>\n",
              "      <td>351385.5362</td>\n",
              "    </tr>\n",
              "  </tbody>\n",
              "</table>\n",
              "</div>\n",
              "      <button class=\"colab-df-convert\" onclick=\"convertToInteractive('df-92dc29ae-c409-4d96-9fb5-014c639260ce')\"\n",
              "              title=\"Convert this dataframe to an interactive table.\"\n",
              "              style=\"display:none;\">\n",
              "        \n",
              "  <svg xmlns=\"http://www.w3.org/2000/svg\" height=\"24px\"viewBox=\"0 0 24 24\"\n",
              "       width=\"24px\">\n",
              "    <path d=\"M0 0h24v24H0V0z\" fill=\"none\"/>\n",
              "    <path d=\"M18.56 5.44l.94 2.06.94-2.06 2.06-.94-2.06-.94-.94-2.06-.94 2.06-2.06.94zm-11 1L8.5 8.5l.94-2.06 2.06-.94-2.06-.94L8.5 2.5l-.94 2.06-2.06.94zm10 10l.94 2.06.94-2.06 2.06-.94-2.06-.94-.94-2.06-.94 2.06-2.06.94z\"/><path d=\"M17.41 7.96l-1.37-1.37c-.4-.4-.92-.59-1.43-.59-.52 0-1.04.2-1.43.59L10.3 9.45l-7.72 7.72c-.78.78-.78 2.05 0 2.83L4 21.41c.39.39.9.59 1.41.59.51 0 1.02-.2 1.41-.59l7.78-7.78 2.81-2.81c.8-.78.8-2.07 0-2.86zM5.41 20L4 18.59l7.72-7.72 1.47 1.35L5.41 20z\"/>\n",
              "  </svg>\n",
              "      </button>\n",
              "      \n",
              "  <style>\n",
              "    .colab-df-container {\n",
              "      display:flex;\n",
              "      flex-wrap:wrap;\n",
              "      gap: 12px;\n",
              "    }\n",
              "\n",
              "    .colab-df-convert {\n",
              "      background-color: #E8F0FE;\n",
              "      border: none;\n",
              "      border-radius: 50%;\n",
              "      cursor: pointer;\n",
              "      display: none;\n",
              "      fill: #1967D2;\n",
              "      height: 32px;\n",
              "      padding: 0 0 0 0;\n",
              "      width: 32px;\n",
              "    }\n",
              "\n",
              "    .colab-df-convert:hover {\n",
              "      background-color: #E2EBFA;\n",
              "      box-shadow: 0px 1px 2px rgba(60, 64, 67, 0.3), 0px 1px 3px 1px rgba(60, 64, 67, 0.15);\n",
              "      fill: #174EA6;\n",
              "    }\n",
              "\n",
              "    [theme=dark] .colab-df-convert {\n",
              "      background-color: #3B4455;\n",
              "      fill: #D2E3FC;\n",
              "    }\n",
              "\n",
              "    [theme=dark] .colab-df-convert:hover {\n",
              "      background-color: #434B5C;\n",
              "      box-shadow: 0px 1px 3px 1px rgba(0, 0, 0, 0.15);\n",
              "      filter: drop-shadow(0px 1px 2px rgba(0, 0, 0, 0.3));\n",
              "      fill: #FFFFFF;\n",
              "    }\n",
              "  </style>\n",
              "\n",
              "      <script>\n",
              "        const buttonEl =\n",
              "          document.querySelector('#df-92dc29ae-c409-4d96-9fb5-014c639260ce button.colab-df-convert');\n",
              "        buttonEl.style.display =\n",
              "          google.colab.kernel.accessAllowed ? 'block' : 'none';\n",
              "\n",
              "        async function convertToInteractive(key) {\n",
              "          const element = document.querySelector('#df-92dc29ae-c409-4d96-9fb5-014c639260ce');\n",
              "          const dataTable =\n",
              "            await google.colab.kernel.invokeFunction('convertToInteractive',\n",
              "                                                     [key], {});\n",
              "          if (!dataTable) return;\n",
              "\n",
              "          const docLinkHtml = 'Like what you see? Visit the ' +\n",
              "            '<a target=\"_blank\" href=https://colab.research.google.com/notebooks/data_table.ipynb>data table notebook</a>'\n",
              "            + ' to learn more about interactive tables.';\n",
              "          element.innerHTML = '';\n",
              "          dataTable['output_type'] = 'display_data';\n",
              "          await google.colab.output.renderOutput(dataTable, element);\n",
              "          const docLink = document.createElement('div');\n",
              "          docLink.innerHTML = docLinkHtml;\n",
              "          element.appendChild(docLink);\n",
              "        }\n",
              "      </script>\n",
              "    </div>\n",
              "  </div>\n",
              "  "
            ]
          },
          "metadata": {},
          "execution_count": 5
        }
      ]
    },
    {
      "cell_type": "code",
      "source": [
        "df.columns"
      ],
      "metadata": {
        "colab": {
          "base_uri": "https://localhost:8080/"
        },
        "id": "wivaMYSrdSxx",
        "outputId": "8af7681e-11ae-4ed3-b135-46b424fd91d5"
      },
      "execution_count": null,
      "outputs": [
        {
          "output_type": "execute_result",
          "data": {
            "text/plain": [
              "Index(['open', 'high', 'low', 'close', 'volume'], dtype='object')"
            ]
          },
          "metadata": {},
          "execution_count": 6
        }
      ]
    },
    {
      "cell_type": "code",
      "source": [
        "df[\"DifPrice\"] = df.high - df.low\n",
        "df[\"VarPrice\"] = (df.close-df.open)/df.open\n",
        "df = df.drop([\"low\",\"high\", \"open\"], axis=1)"
      ],
      "metadata": {
        "id": "KuGS5kJDq6H6"
      },
      "execution_count": null,
      "outputs": []
    },
    {
      "cell_type": "code",
      "source": [
        "df.head()"
      ],
      "metadata": {
        "colab": {
          "base_uri": "https://localhost:8080/",
          "height": 206
        },
        "id": "vSlSCL6vsVtR",
        "outputId": "69efdaa0-161d-443f-eb77-21804fac6874"
      },
      "execution_count": null,
      "outputs": [
        {
          "output_type": "execute_result",
          "data": {
            "text/plain": [
              "     close       volume  DifPrice  VarPrice\n",
              "0  1578.48  527539.2965     49.23  0.003682\n",
              "1  1518.34  981395.3648    119.36 -0.038094\n",
              "2  1531.01  560202.8813     43.84  0.008351\n",
              "3  1644.78  935531.4781    151.60  0.074310\n",
              "4  1626.98  351385.5362     45.55 -0.010822"
            ],
            "text/html": [
              "\n",
              "  <div id=\"df-f5d117a7-4148-4a28-b07d-1cdfee79be16\">\n",
              "    <div class=\"colab-df-container\">\n",
              "      <div>\n",
              "<style scoped>\n",
              "    .dataframe tbody tr th:only-of-type {\n",
              "        vertical-align: middle;\n",
              "    }\n",
              "\n",
              "    .dataframe tbody tr th {\n",
              "        vertical-align: top;\n",
              "    }\n",
              "\n",
              "    .dataframe thead th {\n",
              "        text-align: right;\n",
              "    }\n",
              "</style>\n",
              "<table border=\"1\" class=\"dataframe\">\n",
              "  <thead>\n",
              "    <tr style=\"text-align: right;\">\n",
              "      <th></th>\n",
              "      <th>close</th>\n",
              "      <th>volume</th>\n",
              "      <th>DifPrice</th>\n",
              "      <th>VarPrice</th>\n",
              "    </tr>\n",
              "  </thead>\n",
              "  <tbody>\n",
              "    <tr>\n",
              "      <th>0</th>\n",
              "      <td>1578.48</td>\n",
              "      <td>527539.2965</td>\n",
              "      <td>49.23</td>\n",
              "      <td>0.003682</td>\n",
              "    </tr>\n",
              "    <tr>\n",
              "      <th>1</th>\n",
              "      <td>1518.34</td>\n",
              "      <td>981395.3648</td>\n",
              "      <td>119.36</td>\n",
              "      <td>-0.038094</td>\n",
              "    </tr>\n",
              "    <tr>\n",
              "      <th>2</th>\n",
              "      <td>1531.01</td>\n",
              "      <td>560202.8813</td>\n",
              "      <td>43.84</td>\n",
              "      <td>0.008351</td>\n",
              "    </tr>\n",
              "    <tr>\n",
              "      <th>3</th>\n",
              "      <td>1644.78</td>\n",
              "      <td>935531.4781</td>\n",
              "      <td>151.60</td>\n",
              "      <td>0.074310</td>\n",
              "    </tr>\n",
              "    <tr>\n",
              "      <th>4</th>\n",
              "      <td>1626.98</td>\n",
              "      <td>351385.5362</td>\n",
              "      <td>45.55</td>\n",
              "      <td>-0.010822</td>\n",
              "    </tr>\n",
              "  </tbody>\n",
              "</table>\n",
              "</div>\n",
              "      <button class=\"colab-df-convert\" onclick=\"convertToInteractive('df-f5d117a7-4148-4a28-b07d-1cdfee79be16')\"\n",
              "              title=\"Convert this dataframe to an interactive table.\"\n",
              "              style=\"display:none;\">\n",
              "        \n",
              "  <svg xmlns=\"http://www.w3.org/2000/svg\" height=\"24px\"viewBox=\"0 0 24 24\"\n",
              "       width=\"24px\">\n",
              "    <path d=\"M0 0h24v24H0V0z\" fill=\"none\"/>\n",
              "    <path d=\"M18.56 5.44l.94 2.06.94-2.06 2.06-.94-2.06-.94-.94-2.06-.94 2.06-2.06.94zm-11 1L8.5 8.5l.94-2.06 2.06-.94-2.06-.94L8.5 2.5l-.94 2.06-2.06.94zm10 10l.94 2.06.94-2.06 2.06-.94-2.06-.94-.94-2.06-.94 2.06-2.06.94z\"/><path d=\"M17.41 7.96l-1.37-1.37c-.4-.4-.92-.59-1.43-.59-.52 0-1.04.2-1.43.59L10.3 9.45l-7.72 7.72c-.78.78-.78 2.05 0 2.83L4 21.41c.39.39.9.59 1.41.59.51 0 1.02-.2 1.41-.59l7.78-7.78 2.81-2.81c.8-.78.8-2.07 0-2.86zM5.41 20L4 18.59l7.72-7.72 1.47 1.35L5.41 20z\"/>\n",
              "  </svg>\n",
              "      </button>\n",
              "      \n",
              "  <style>\n",
              "    .colab-df-container {\n",
              "      display:flex;\n",
              "      flex-wrap:wrap;\n",
              "      gap: 12px;\n",
              "    }\n",
              "\n",
              "    .colab-df-convert {\n",
              "      background-color: #E8F0FE;\n",
              "      border: none;\n",
              "      border-radius: 50%;\n",
              "      cursor: pointer;\n",
              "      display: none;\n",
              "      fill: #1967D2;\n",
              "      height: 32px;\n",
              "      padding: 0 0 0 0;\n",
              "      width: 32px;\n",
              "    }\n",
              "\n",
              "    .colab-df-convert:hover {\n",
              "      background-color: #E2EBFA;\n",
              "      box-shadow: 0px 1px 2px rgba(60, 64, 67, 0.3), 0px 1px 3px 1px rgba(60, 64, 67, 0.15);\n",
              "      fill: #174EA6;\n",
              "    }\n",
              "\n",
              "    [theme=dark] .colab-df-convert {\n",
              "      background-color: #3B4455;\n",
              "      fill: #D2E3FC;\n",
              "    }\n",
              "\n",
              "    [theme=dark] .colab-df-convert:hover {\n",
              "      background-color: #434B5C;\n",
              "      box-shadow: 0px 1px 3px 1px rgba(0, 0, 0, 0.15);\n",
              "      filter: drop-shadow(0px 1px 2px rgba(0, 0, 0, 0.3));\n",
              "      fill: #FFFFFF;\n",
              "    }\n",
              "  </style>\n",
              "\n",
              "      <script>\n",
              "        const buttonEl =\n",
              "          document.querySelector('#df-f5d117a7-4148-4a28-b07d-1cdfee79be16 button.colab-df-convert');\n",
              "        buttonEl.style.display =\n",
              "          google.colab.kernel.accessAllowed ? 'block' : 'none';\n",
              "\n",
              "        async function convertToInteractive(key) {\n",
              "          const element = document.querySelector('#df-f5d117a7-4148-4a28-b07d-1cdfee79be16');\n",
              "          const dataTable =\n",
              "            await google.colab.kernel.invokeFunction('convertToInteractive',\n",
              "                                                     [key], {});\n",
              "          if (!dataTable) return;\n",
              "\n",
              "          const docLinkHtml = 'Like what you see? Visit the ' +\n",
              "            '<a target=\"_blank\" href=https://colab.research.google.com/notebooks/data_table.ipynb>data table notebook</a>'\n",
              "            + ' to learn more about interactive tables.';\n",
              "          element.innerHTML = '';\n",
              "          dataTable['output_type'] = 'display_data';\n",
              "          await google.colab.output.renderOutput(dataTable, element);\n",
              "          const docLink = document.createElement('div');\n",
              "          docLink.innerHTML = docLinkHtml;\n",
              "          element.appendChild(docLink);\n",
              "        }\n",
              "      </script>\n",
              "    </div>\n",
              "  </div>\n",
              "  "
            ]
          },
          "metadata": {},
          "execution_count": 8
        }
      ]
    },
    {
      "cell_type": "code",
      "source": [
        "fig, ax = plt.subplots(1,2,figsize=(20, 8))\n",
        "ax[0].plot(df.close)\n",
        "ax[0].set_xlabel(\"days\")\n",
        "ax[0].set_ylabel(\"price\")\n",
        "ax[0].grid()\n",
        "ax[0].set_title(\"Price ETH/BUSD\")\n",
        "\n",
        "ax[1].plot(df.volume)\n",
        "ax[1].set_xlabel(\"days\")\n",
        "ax[1].set_ylabel(\"volume\")\n",
        "ax[1].grid()\n",
        "ax[1].set_title(\"Volume ETH\")\n",
        "\n",
        "plt.show()"
      ],
      "metadata": {
        "colab": {
          "base_uri": "https://localhost:8080/",
          "height": 282
        },
        "id": "2ORA4CCDdMQY",
        "outputId": "fdb1b1e6-f59f-46dd-bc03-a03b8b1fae1e"
      },
      "execution_count": null,
      "outputs": [
        {
          "output_type": "display_data",
          "data": {
            "text/plain": [
              "<Figure size 1440x576 with 2 Axes>"
            ],
            "image/png": "[encoded data removed]"
          },
          "metadata": {
            "needs_background": "light"
          }
        }
      ]
    },
    {
      "cell_type": "code",
      "source": [
        "data_lstm = df\n",
        "scaler = MinMaxScaler()\n",
        "data_MM = scaler.fit_transform(data_lstm)\n",
        "data_lstm.shape"
      ],
      "metadata": {
        "colab": {
          "base_uri": "https://localhost:8080/"
        },
        "id": "ZIpQ-ZJ51zwU",
        "outputId": "7332b101-5c3d-4b8f-98ec-45365fa4bacb"
      },
      "execution_count": null,
      "outputs": [
        {
          "output_type": "execute_result",
          "data": {
            "text/plain": [
              "(81, 4)"
            ]
          },
          "metadata": {},
          "execution_count": 10
        }
      ]
    },
    {
      "cell_type": "code",
      "source": [
        "class MyDataset(Dataset):\n",
        "  def __init__(self, input, seq_len):\n",
        "    self.input = input\n",
        "    self.seq_len = seq_len\n",
        "  def __getitem__(self, item):\n",
        "    return self.input[item:item+self.seq_len], self.input[item+self.seq_len][0]\n",
        "  def __len__(self):\n",
        "    return len(self.input) - self.seq_len"
      ],
      "metadata": {
        "id": "K6oiobhPjflP"
      },
      "execution_count": null,
      "outputs": []
    },
    {
      "cell_type": "code",
      "source": [
        "# data_np = data_MM.to_numpy()\n",
        "data_tc = torch.tensor(data_MM, dtype = torch.float)\n",
        "\n",
        "ds = MyDataset(data_tc,20)\n",
        "dl = DataLoader(ds, batch_size=1, )"
      ],
      "metadata": {
        "id": "kDIRH1LTi8DQ"
      },
      "execution_count": null,
      "outputs": []
    },
    {
      "cell_type": "code",
      "source": [
        "for x,y in dl:\n",
        "  print(x.shape, y.shape)\n",
        "  break"
      ],
      "metadata": {
        "colab": {
          "base_uri": "https://localhost:8080/"
        },
        "id": "ZSGxeMsywX5m",
        "outputId": "6404aff0-e65a-487b-8076-5d10a57f0295"
      },
      "execution_count": null,
      "outputs": [
        {
          "output_type": "stream",
          "name": "stdout",
          "text": [
            "torch.Size([1, 20, 4]) torch.Size([1])\n"
          ]
        }
      ]
    },
    {
      "cell_type": "code",
      "execution_count": null,
      "metadata": {
        "id": "PAYpF-pnZde4"
      },
      "outputs": [],
      "source": [
        "class ModelLstm(nn.Module):\n",
        "  def __init__(self, input_size, num_hidden, num_layers) -> None:\n",
        "    super().__init__()\n",
        "\n",
        "    self.input_size = input_size\n",
        "    self.num_hidden = num_hidden\n",
        "    self.num_layers = num_layers\n",
        "\n",
        "    self.lstm = nn.LSTM(input_size, \n",
        "                        num_hidden, \n",
        "                        num_layers,\n",
        "                        batch_first=True,\n",
        "                        bidirectional=True)\n",
        "\n",
        "    self.out = nn.Linear(num_hidden,1)\n",
        "\n",
        "  def forward(self, x):\n",
        "    self.lstm.flatten_parameters()\n",
        "\n",
        "    y, (hidden,_) = self.lstm(x)\n",
        "    o = self.out(hidden[-1])\n",
        "\n",
        "    return o"
      ]
    },
    {
      "cell_type": "code",
      "source": [
        "net = ModelLstm(input_size = 4, \n",
        "                num_hidden = 128, \n",
        "                num_layers = 2)\n",
        "lossfun = nn.MSELoss()\n",
        "optimizer = torch.optim.AdamW(net.parameters(), lr=.01)"
      ],
      "metadata": {
        "id": "-OkBjyZso5XW"
      },
      "execution_count": null,
      "outputs": []
    },
    {
      "cell_type": "code",
      "execution_count": null,
      "metadata": {
        "id": "EzgrbHfnezn4"
      },
      "outputs": [],
      "source": [
        "def treinador(modelo, lossfun, optimizer, datas):\n",
        "  BestModel = {'Loss':100, 'net':None}\n",
        "  epochs = 200\n",
        "  losses = np.zeros(epochs)\n",
        "\n",
        "  for epochi in range(epochs):\n",
        "    loss_ep = []\n",
        "\n",
        "    for x, y in datas:\n",
        "      y_hat = modelo(x)\n",
        "      y_final = y_hat[-1]\n",
        "      loss = lossfun(y_final, y)\n",
        "\n",
        "      optimizer.zero_grad()\n",
        "      loss.backward()\n",
        "      optimizer.step()\n",
        "    \n",
        "    loss_ep.append(loss.item())\n",
        "    losses[epochi] = np.mean(loss_ep)\n",
        "    if loss_ep[-1]<BestModel['Loss']:\n",
        "      BestModel['Loss'] = loss_ep[-1]\n",
        "      BestModel['net'] = copy.deepcopy(modelo.state_dict())\n",
        "\n",
        "  return modelo, losses, BestModel"
      ]
    },
    {
      "cell_type": "code",
      "source": [
        "modelo, losses, BestModel = treinador(net, lossfun, optimizer, dl)"
      ],
      "metadata": {
        "id": "o_dZlZNTyW1X"
      },
      "execution_count": null,
      "outputs": []
    },
    {
      "cell_type": "code",
      "source": [
        "plt.plot(losses)\n",
        "plt.xlabel(\"epochs\")\n",
        "plt.ylabel(\"loss\")\n",
        "plt.title(f'loss:{losses[-1]:.4f}')\n",
        "plt.show()"
      ],
      "metadata": {
        "colab": {
          "base_uri": "https://localhost:8080/",
          "height": 295
        },
        "id": "rggCKXOPypSI",
        "outputId": "246611e3-d3cd-4d47-caaf-39b73ce43a25"
      },
      "execution_count": null,
      "outputs": [
        {
          "output_type": "display_data",
          "data": {
            "text/plain": [
              "<Figure size 432x288 with 1 Axes>"
            ],
            "image/png": "[encoded data removed]"
          },
          "metadata": {
            "needs_background": "light"
          }
        }
      ]
    },
    {
      "cell_type": "code",
      "source": [
        "x_valid = data_tc[-7:-2]\n",
        "y_valid = data_tc[-1][0]\n",
        "x_valid, y_valid"
      ],
      "metadata": {
        "colab": {
          "base_uri": "https://localhost:8080/"
        },
        "id": "DsfLYyfA1MuP",
        "outputId": "8aa6a9c4-9b00-4c34-9058-a09da3b2a8c9"
      },
      "execution_count": null,
      "outputs": [
        {
          "output_type": "execute_result",
          "data": {
            "text/plain": [
              "(tensor([[0.8035, 0.3462, 0.4183, 0.6869],\n",
              "         [0.8082, 0.1136, 0.1211, 0.4985],\n",
              "         [0.8520, 0.1922, 0.2177, 0.5384],\n",
              "         [0.8316, 0.1637, 0.1722, 0.4733],\n",
              "         [0.7343, 0.2670, 0.2931, 0.3956]]), tensor(1.))"
            ]
          },
          "metadata": {},
          "execution_count": 57
        }
      ]
    },
    {
      "cell_type": "code",
      "source": [
        "x_valid"
      ],
      "metadata": {
        "colab": {
          "base_uri": "https://localhost:8080/"
        },
        "id": "KlU4g3uVi3iu",
        "outputId": "c0d801fe-20e7-49cd-fd62-ab81e2fbfd58"
      },
      "execution_count": null,
      "outputs": [
        {
          "output_type": "execute_result",
          "data": {
            "text/plain": [
              "tensor([[0.8035, 0.3462, 0.4183, 0.6869],\n",
              "        [0.8082, 0.1136, 0.1211, 0.4985],\n",
              "        [0.8520, 0.1922, 0.2177, 0.5384],\n",
              "        [0.8316, 0.1637, 0.1722, 0.4733],\n",
              "        [0.7343, 0.2670, 0.2931, 0.3956]])"
            ]
          },
          "metadata": {},
          "execution_count": 58
        }
      ]
    },
    {
      "cell_type": "code",
      "source": [
        "data_tc[-1]"
      ],
      "metadata": {
        "colab": {
          "base_uri": "https://localhost:8080/"
        },
        "id": "KdxcKMSVjdld",
        "outputId": "b911078b-dc87-41cf-cca9-4514fbae3f9a"
      },
      "execution_count": null,
      "outputs": [
        {
          "output_type": "execute_result",
          "data": {
            "text/plain": [
              "tensor([1.0000, 0.1358, 0.3502, 0.6919])"
            ]
          },
          "metadata": {},
          "execution_count": 59
        }
      ]
    },
    {
      "cell_type": "code",
      "source": [
        "true_v = scaler.inverse_transform(data_tc[-1].reshape((1,-1)))"
      ],
      "metadata": {
        "id": "L_erlOaAiigV"
      },
      "execution_count": null,
      "outputs": []
    },
    {
      "cell_type": "code",
      "source": [
        "y_hat = modelo(x_valid)[-1]\n",
        "y_hat"
      ],
      "metadata": {
        "colab": {
          "base_uri": "https://localhost:8080/"
        },
        "id": "V86avCON1NeA",
        "outputId": "a0307f35-7afe-4c66-8d3a-f8d5bddd8af1"
      },
      "execution_count": null,
      "outputs": [
        {
          "output_type": "execute_result",
          "data": {
            "text/plain": [
              "tensor(0.8211, grad_fn=<SelectBackward0>)"
            ]
          },
          "metadata": {},
          "execution_count": 61
        }
      ]
    },
    {
      "cell_type": "code",
      "source": [
        "result = scaler.inverse_transform(np.array([y_hat.item(),1,1,1]).reshape((1,-1)))"
      ],
      "metadata": {
        "id": "OYyaIBGHjwJ5"
      },
      "execution_count": null,
      "outputs": []
    },
    {
      "cell_type": "code",
      "source": [
        "result[0][0]"
      ],
      "metadata": {
        "colab": {
          "base_uri": "https://localhost:8080/"
        },
        "id": "Np7iyiGlx_Ng",
        "outputId": "988b6392-092f-48ca-8453-a602d6ac858f"
      },
      "execution_count": null,
      "outputs": [
        {
          "output_type": "execute_result",
          "data": {
            "text/plain": [
              "1559.703533539772"
            ]
          },
          "metadata": {},
          "execution_count": 63
        }
      ]
    },
    {
      "cell_type": "code",
      "source": [
        "true_v[0][0]"
      ],
      "metadata": {
        "colab": {
          "base_uri": "https://localhost:8080/"
        },
        "id": "j-hVmwvlyCwC",
        "outputId": "00d78553-36c8-4cc6-f849-79866caa2cab"
      },
      "execution_count": null,
      "outputs": [
        {
          "output_type": "execute_result",
          "data": {
            "text/plain": [
              "1659.29"
            ]
          },
          "metadata": {},
          "execution_count": 64
        }
      ]
    },
    {
      "cell_type": "code",
      "source": [
        "BestModel['Loss']"
      ],
      "metadata": {
        "colab": {
          "base_uri": "https://localhost:8080/"
        },
        "id": "WpRy2FHsmk1i",
        "outputId": "f26adc4b-67bc-4b77-ca64-ecee852e2923"
      },
      "execution_count": null,
      "outputs": [
        {
          "output_type": "execute_result",
          "data": {
            "text/plain": [
              "0.00027928530471399426"
            ]
          },
          "metadata": {},
          "execution_count": 67
        }
      ]
    },
    {
      "cell_type": "code",
      "source": [
        "# torch.save(modelo.state_dict(), 'trainedModel.pt')"
      ],
      "metadata": {
        "id": "OOkH_sbG7uD-"
      },
      "execution_count": null,
      "outputs": []
    },
    {
      "cell_type": "code",
      "source": [
        "bestModel = ModelLstm(input_size = 4, \n",
        "                num_hidden = 128, \n",
        "                num_layers = 2)\n",
        "bestModel.load_state_dict(BestModel['net'])"
      ],
      "metadata": {
        "colab": {
          "base_uri": "https://localhost:8080/"
        },
        "id": "ilnrAF3hkAgo",
        "outputId": "01a74370-df13-4cfc-d97a-7094bb5f06aa"
      },
      "execution_count": null,
      "outputs": [
        {
          "output_type": "execute_result",
          "data": {
            "text/plain": [
              "<All keys matched successfully>"
            ]
          },
          "metadata": {},
          "execution_count": 68
        }
      ]
    },
    {
      "cell_type": "code",
      "source": [
        "y_hatB = bestModel(x_valid)[-1]\n",
        "result = scaler.inverse_transform(np.array([y_hatB.item(),1,1,1]).reshape((1,-1)))\n",
        "result[0][0]"
      ],
      "metadata": {
        "colab": {
          "base_uri": "https://localhost:8080/"
        },
        "id": "xuJrJTcHm_xM",
        "outputId": "02ed063a-e034-488f-ab5a-f5b32c227e12"
      },
      "execution_count": null,
      "outputs": [
        {
          "output_type": "execute_result",
          "data": {
            "text/plain": [
              "1654.8842193508146"
            ]
          },
          "metadata": {},
          "execution_count": 70
        }
      ]
    },
    {
      "cell_type": "code",
      "source": [
        "torch.save(bestModel.state_dict(), 'trainedModel.pt')"
      ],
      "metadata": {
        "id": "_fTWAiGnnUPp"
      },
      "execution_count": null,
      "outputs": []
    }
  ],
  "metadata": {
    "colab": {
      "provenance": []
    },
    "gpuClass": "standard",
    "kernelspec": {
      "display_name": "Python 3",
      "name": "python3"
    },
    "language_info": {
      "name": "python"
    }
  },
  "nbformat": 4,
  "nbformat_minor": 0
}