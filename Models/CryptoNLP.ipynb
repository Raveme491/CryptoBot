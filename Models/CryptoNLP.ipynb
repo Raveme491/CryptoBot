{
  "nbformat": 4,
  "nbformat_minor": 0,
  "metadata": {
    "colab": {
      "provenance": []
    },
    "kernelspec": {
      "name": "python3",
      "display_name": "Python 3"
    },
    "language_info": {
      "name": "python"
    },
    "gpuClass": "standard",
    "accelerator": "GPU"
  },
  "cells": [
    {
      "cell_type": "markdown",
      "source": [
        "#Preprocessamento\n"
      ],
      "metadata": {
        "id": "ZsBHmmgwKv-w"
      }
    },
    {
      "cell_type": "code",
      "source": [
        "pip install nlpaug"
      ],
      "metadata": {
        "colab": {
          "base_uri": "https://localhost:8080/"
        },
        "id": "VTWX3xY2G0lx",
        "outputId": "475069b8-1cec-4818-d17c-96f2543c9782"
      },
      "execution_count": null,
      "outputs": [
        {
          "output_type": "stream",
          "name": "stdout",
          "text": [
            "Looking in indexes: https://pypi.org/simple, https://us-python.pkg.dev/colab-wheels/public/simple/\n",
            "Requirement already satisfied: nlpaug in /usr/local/lib/python3.8/dist-packages (1.1.11)\n",
            "Requirement already satisfied: requests>=2.22.0 in /usr/local/lib/python3.8/dist-packages (from nlpaug) (2.25.1)\n",
            "Requirement already satisfied: numpy>=1.16.2 in /usr/local/lib/python3.8/dist-packages (from nlpaug) (1.21.6)\n",
            "Requirement already satisfied: pandas>=1.2.0 in /usr/local/lib/python3.8/dist-packages (from nlpaug) (1.3.5)\n",
            "Requirement already satisfied: gdown>=4.0.0 in /usr/local/lib/python3.8/dist-packages (from nlpaug) (4.4.0)\n",
            "Requirement already satisfied: filelock in /usr/local/lib/python3.8/dist-packages (from gdown>=4.0.0->nlpaug) (3.9.0)\n",
            "Requirement already satisfied: beautifulsoup4 in /usr/local/lib/python3.8/dist-packages (from gdown>=4.0.0->nlpaug) (4.6.3)\n",
            "Requirement already satisfied: six in /usr/local/lib/python3.8/dist-packages (from gdown>=4.0.0->nlpaug) (1.15.0)\n",
            "Requirement already satisfied: tqdm in /usr/local/lib/python3.8/dist-packages (from gdown>=4.0.0->nlpaug) (4.64.1)\n",
            "Requirement already satisfied: python-dateutil>=2.7.3 in /usr/local/lib/python3.8/dist-packages (from pandas>=1.2.0->nlpaug) (2.8.2)\n",
            "Requirement already satisfied: pytz>=2017.3 in /usr/local/lib/python3.8/dist-packages (from pandas>=1.2.0->nlpaug) (2022.7.1)\n",
            "Requirement already satisfied: idna<3,>=2.5 in /usr/local/lib/python3.8/dist-packages (from requests>=2.22.0->nlpaug) (2.10)\n",
            "Requirement already satisfied: urllib3<1.27,>=1.21.1 in /usr/local/lib/python3.8/dist-packages (from requests>=2.22.0->nlpaug) (1.24.3)\n",
            "Requirement already satisfied: chardet<5,>=3.0.2 in /usr/local/lib/python3.8/dist-packages (from requests>=2.22.0->nlpaug) (4.0.0)\n",
            "Requirement already satisfied: certifi>=2017.4.17 in /usr/local/lib/python3.8/dist-packages (from requests>=2.22.0->nlpaug) (2022.12.7)\n",
            "Requirement already satisfied: PySocks!=1.5.7,>=1.5.6 in /usr/local/lib/python3.8/dist-packages (from requests>=2.22.0->nlpaug) (1.7.1)\n"
          ]
        }
      ]
    },
    {
      "cell_type": "code",
      "execution_count": null,
      "metadata": {
        "id": "aeEgnNJIHrmu"
      },
      "outputs": [],
      "source": [
        "import pandas as pd\n",
        "import re\n",
        "import spacy\n",
        "import torch\n",
        "from torch import nn\n",
        "from torch.utils.data import TensorDataset, DataLoader\n",
        "from sklearn.model_selection import train_test_split\n",
        "import numpy as np\n",
        "import torch.nn.functional as F\n",
        "import copy\n",
        "import seaborn as sns\n",
        "import nlpaug\n",
        "import nlpaug.augmenter.word as naw"
      ]
    },
    {
      "cell_type": "code",
      "source": [
        "from torchtext.vocab import GloVe\n",
        "from torchtext.data import get_tokenizer\n",
        "\n",
        "tokenizer = get_tokenizer(\"basic_english\")\n",
        "global_vectors = GloVe(name='twitter.27B', dim=50)"
      ],
      "metadata": {
        "id": "STK0ZUvcZk0E"
      },
      "execution_count": null,
      "outputs": []
    },
    {
      "cell_type": "code",
      "source": [
        "device = torch.device('cuda:0' if torch.cuda.is_available() else 'cpu')\n",
        "device"
      ],
      "metadata": {
        "colab": {
          "base_uri": "https://localhost:8080/"
        },
        "id": "jh8xFKQfGjpj",
        "outputId": "e018fbe7-2367-4313-9e53-c560ed1caeac"
      },
      "execution_count": null,
      "outputs": [
        {
          "output_type": "execute_result",
          "data": {
            "text/plain": [
              "device(type='cuda', index=0)"
            ]
          },
          "metadata": {},
          "execution_count": 4
        }
      ]
    },
    {
      "cell_type": "code",
      "source": [
        "df = pd.read_csv(\"/content/all-data.csv\",encoding=\"ISO-8859-1\", header=None)\n",
        "df.columns =['label', 'text']"
      ],
      "metadata": {
        "id": "-AemQtrqPdNQ"
      },
      "execution_count": null,
      "outputs": []
    },
    {
      "cell_type": "code",
      "source": [
        "df.label.value_counts()"
      ],
      "metadata": {
        "colab": {
          "base_uri": "https://localhost:8080/"
        },
        "id": "sKW1c0JVGOtz",
        "outputId": "b9999e76-2084-4738-b1ff-e55b1658191d"
      },
      "execution_count": null,
      "outputs": [
        {
          "output_type": "execute_result",
          "data": {
            "text/plain": [
              "neutral     2879\n",
              "positive    1363\n",
              "negative     604\n",
              "Name: label, dtype: int64"
            ]
          },
          "metadata": {},
          "execution_count": 6
        }
      ]
    },
    {
      "cell_type": "code",
      "source": [
        "sns.histplot(df, x=df.label)\n",
        "print(df[df.label==0].label.count()/df.shape[0],df[df.label==1].label.count()/df.shape[0],df[df.label==2].label.count()/df.shape[0])"
      ],
      "metadata": {
        "colab": {
          "base_uri": "https://localhost:8080/",
          "height": 299
        },
        "id": "lCAcRBANFOn4",
        "outputId": "64862de1-f5a5-48a6-e61b-f3c9cd68cd16"
      },
      "execution_count": null,
      "outputs": [
        {
          "output_type": "stream",
          "name": "stdout",
          "text": [
            "0.0 0.0 0.0\n"
          ]
        },
        {
          "output_type": "display_data",
          "data": {
            "text/plain": [
              "<Figure size 432x288 with 1 Axes>"
            ],
            "image/png": "[encoded data removed]"
          },
          "metadata": {
            "needs_background": "light"
          }
        }
      ]
    },
    {
      "cell_type": "code",
      "source": [
        "df.label.value_counts().sort_values()"
      ],
      "metadata": {
        "colab": {
          "base_uri": "https://localhost:8080/"
        },
        "id": "YlQwEieLNK8R",
        "outputId": "53abebd1-2094-4098-fa16-18ba7527d59c"
      },
      "execution_count": null,
      "outputs": [
        {
          "output_type": "execute_result",
          "data": {
            "text/plain": [
              "negative     604\n",
              "positive    1363\n",
              "neutral     2879\n",
              "Name: label, dtype: int64"
            ]
          },
          "metadata": {},
          "execution_count": 8
        }
      ]
    },
    {
      "cell_type": "code",
      "source": [
        "aug = naw.SynonymAug(aug_src='wordnet',aug_p=.3)"
      ],
      "metadata": {
        "id": "T2EnaLPuHIBc"
      },
      "execution_count": null,
      "outputs": []
    },
    {
      "cell_type": "code",
      "source": [
        "texts_neg_sin = []\n",
        "for text in df[df.label=='negative'].text:\n",
        "  texts_neg_sin.extend(aug.augment(text,n=4))"
      ],
      "metadata": {
        "id": "ak45J_xrQYJ6"
      },
      "execution_count": null,
      "outputs": []
    },
    {
      "cell_type": "code",
      "source": [
        "texts_pos_sin = []\n",
        "for text in df[df.label=='positive'].text:\n",
        "  texts_pos_sin.extend(aug.augment(text,n=1))"
      ],
      "metadata": {
        "id": "osUYXUz0RukZ"
      },
      "execution_count": null,
      "outputs": []
    },
    {
      "cell_type": "code",
      "source": [
        "new_positives = pd.DataFrame(texts_pos_sin, columns=['text'])\n",
        "new_positives['label'] = 'positive'\n",
        "new_positives"
      ],
      "metadata": {
        "colab": {
          "base_uri": "https://localhost:8080/",
          "height": 424
        },
        "id": "yDzjcYm1R3by",
        "outputId": "9c2b3c04-c8f9-4a17-e739-cb9a3a4b0b9c"
      },
      "execution_count": null,
      "outputs": [
        {
          "output_type": "execute_result",
          "data": {
            "text/plain": [
              "                                                   text     label\n",
              "0     With the new output plant the company would in...  positive\n",
              "1     According to the fellowship ' siemens update s...  positive\n",
              "2     funding OF ASPOCOMP ' S GROWTH Aspocomp is agg...  positive\n",
              "3     For the last quarter of 2010, Componenta ' s n...  positive\n",
              "4     In the 3rd one quarter of 2010, net sales incr...  positive\n",
              "...                                                 ...       ...\n",
              "1358  The apartment occlusion will constitute well -...  positive\n",
              "1359  The antibody, given at repeated doses of up to...  positive\n",
              "1360  Danske Savings bank Deoxyadenosine monophospha...  positive\n",
              "1361  Our superscript customer centricity and expert...  positive\n",
              "1362  The 2015 target for final sales have been set ...  positive\n",
              "\n",
              "[1363 rows x 2 columns]"
            ],
            "text/html": [
              "\n",
              "  <div id=\"df-7668bbd4-9112-4c7f-b75e-60247629c6d9\">\n",
              "    <div class=\"colab-df-container\">\n",
              "      <div>\n",
              "<style scoped>\n",
              "    .dataframe tbody tr th:only-of-type {\n",
              "        vertical-align: middle;\n",
              "    }\n",
              "\n",
              "    .dataframe tbody tr th {\n",
              "        vertical-align: top;\n",
              "    }\n",
              "\n",
              "    .dataframe thead th {\n",
              "        text-align: right;\n",
              "    }\n",
              "</style>\n",
              "<table border=\"1\" class=\"dataframe\">\n",
              "  <thead>\n",
              "    <tr style=\"text-align: right;\">\n",
              "      <th></th>\n",
              "      <th>text</th>\n",
              "      <th>label</th>\n",
              "    </tr>\n",
              "  </thead>\n",
              "  <tbody>\n",
              "    <tr>\n",
              "      <th>0</th>\n",
              "      <td>With the new output plant the company would in...</td>\n",
              "      <td>positive</td>\n",
              "    </tr>\n",
              "    <tr>\n",
              "      <th>1</th>\n",
              "      <td>According to the fellowship ' siemens update s...</td>\n",
              "      <td>positive</td>\n",
              "    </tr>\n",
              "    <tr>\n",
              "      <th>2</th>\n",
              "      <td>funding OF ASPOCOMP ' S GROWTH Aspocomp is agg...</td>\n",
              "      <td>positive</td>\n",
              "    </tr>\n",
              "    <tr>\n",
              "      <th>3</th>\n",
              "      <td>For the last quarter of 2010, Componenta ' s n...</td>\n",
              "      <td>positive</td>\n",
              "    </tr>\n",
              "    <tr>\n",
              "      <th>4</th>\n",
              "      <td>In the 3rd one quarter of 2010, net sales incr...</td>\n",
              "      <td>positive</td>\n",
              "    </tr>\n",
              "    <tr>\n",
              "      <th>...</th>\n",
              "      <td>...</td>\n",
              "      <td>...</td>\n",
              "    </tr>\n",
              "    <tr>\n",
              "      <th>1358</th>\n",
              "      <td>The apartment occlusion will constitute well -...</td>\n",
              "      <td>positive</td>\n",
              "    </tr>\n",
              "    <tr>\n",
              "      <th>1359</th>\n",
              "      <td>The antibody, given at repeated doses of up to...</td>\n",
              "      <td>positive</td>\n",
              "    </tr>\n",
              "    <tr>\n",
              "      <th>1360</th>\n",
              "      <td>Danske Savings bank Deoxyadenosine monophospha...</td>\n",
              "      <td>positive</td>\n",
              "    </tr>\n",
              "    <tr>\n",
              "      <th>1361</th>\n",
              "      <td>Our superscript customer centricity and expert...</td>\n",
              "      <td>positive</td>\n",
              "    </tr>\n",
              "    <tr>\n",
              "      <th>1362</th>\n",
              "      <td>The 2015 target for final sales have been set ...</td>\n",
              "      <td>positive</td>\n",
              "    </tr>\n",
              "  </tbody>\n",
              "</table>\n",
              "<p>1363 rows × 2 columns</p>\n",
              "</div>\n",
              "      <button class=\"colab-df-convert\" onclick=\"convertToInteractive('df-7668bbd4-9112-4c7f-b75e-60247629c6d9')\"\n",
              "              title=\"Convert this dataframe to an interactive table.\"\n",
              "              style=\"display:none;\">\n",
              "        \n",
              "  <svg xmlns=\"http://www.w3.org/2000/svg\" height=\"24px\"viewBox=\"0 0 24 24\"\n",
              "       width=\"24px\">\n",
              "    <path d=\"M0 0h24v24H0V0z\" fill=\"none\"/>\n",
              "    <path d=\"M18.56 5.44l.94 2.06.94-2.06 2.06-.94-2.06-.94-.94-2.06-.94 2.06-2.06.94zm-11 1L8.5 8.5l.94-2.06 2.06-.94-2.06-.94L8.5 2.5l-.94 2.06-2.06.94zm10 10l.94 2.06.94-2.06 2.06-.94-2.06-.94-.94-2.06-.94 2.06-2.06.94z\"/><path d=\"M17.41 7.96l-1.37-1.37c-.4-.4-.92-.59-1.43-.59-.52 0-1.04.2-1.43.59L10.3 9.45l-7.72 7.72c-.78.78-.78 2.05 0 2.83L4 21.41c.39.39.9.59 1.41.59.51 0 1.02-.2 1.41-.59l7.78-7.78 2.81-2.81c.8-.78.8-2.07 0-2.86zM5.41 20L4 18.59l7.72-7.72 1.47 1.35L5.41 20z\"/>\n",
              "  </svg>\n",
              "      </button>\n",
              "      \n",
              "  <style>\n",
              "    .colab-df-container {\n",
              "      display:flex;\n",
              "      flex-wrap:wrap;\n",
              "      gap: 12px;\n",
              "    }\n",
              "\n",
              "    .colab-df-convert {\n",
              "      background-color: #E8F0FE;\n",
              "      border: none;\n",
              "      border-radius: 50%;\n",
              "      cursor: pointer;\n",
              "      display: none;\n",
              "      fill: #1967D2;\n",
              "      height: 32px;\n",
              "      padding: 0 0 0 0;\n",
              "      width: 32px;\n",
              "    }\n",
              "\n",
              "    .colab-df-convert:hover {\n",
              "      background-color: #E2EBFA;\n",
              "      box-shadow: 0px 1px 2px rgba(60, 64, 67, 0.3), 0px 1px 3px 1px rgba(60, 64, 67, 0.15);\n",
              "      fill: #174EA6;\n",
              "    }\n",
              "\n",
              "    [theme=dark] .colab-df-convert {\n",
              "      background-color: #3B4455;\n",
              "      fill: #D2E3FC;\n",
              "    }\n",
              "\n",
              "    [theme=dark] .colab-df-convert:hover {\n",
              "      background-color: #434B5C;\n",
              "      box-shadow: 0px 1px 3px 1px rgba(0, 0, 0, 0.15);\n",
              "      filter: drop-shadow(0px 1px 2px rgba(0, 0, 0, 0.3));\n",
              "      fill: #FFFFFF;\n",
              "    }\n",
              "  </style>\n",
              "\n",
              "      <script>\n",
              "        const buttonEl =\n",
              "          document.querySelector('#df-7668bbd4-9112-4c7f-b75e-60247629c6d9 button.colab-df-convert');\n",
              "        buttonEl.style.display =\n",
              "          google.colab.kernel.accessAllowed ? 'block' : 'none';\n",
              "\n",
              "        async function convertToInteractive(key) {\n",
              "          const element = document.querySelector('#df-7668bbd4-9112-4c7f-b75e-60247629c6d9');\n",
              "          const dataTable =\n",
              "            await google.colab.kernel.invokeFunction('convertToInteractive',\n",
              "                                                     [key], {});\n",
              "          if (!dataTable) return;\n",
              "\n",
              "          const docLinkHtml = 'Like what you see? Visit the ' +\n",
              "            '<a target=\"_blank\" href=https://colab.research.google.com/notebooks/data_table.ipynb>data table notebook</a>'\n",
              "            + ' to learn more about interactive tables.';\n",
              "          element.innerHTML = '';\n",
              "          dataTable['output_type'] = 'display_data';\n",
              "          await google.colab.output.renderOutput(dataTable, element);\n",
              "          const docLink = document.createElement('div');\n",
              "          docLink.innerHTML = docLinkHtml;\n",
              "          element.appendChild(docLink);\n",
              "        }\n",
              "      </script>\n",
              "    </div>\n",
              "  </div>\n",
              "  "
            ]
          },
          "metadata": {},
          "execution_count": 12
        }
      ]
    },
    {
      "cell_type": "code",
      "source": [
        "new_negatives = pd.DataFrame(texts_neg_sin,columns=['text'])\n",
        "new_negatives['label'] = 'negative'\n",
        "new_negatives"
      ],
      "metadata": {
        "colab": {
          "base_uri": "https://localhost:8080/",
          "height": 424
        },
        "id": "BDZCGSqIRAiR",
        "outputId": "544a5043-6a57-4f37-9705-e2c0c460fb7d"
      },
      "execution_count": null,
      "outputs": [
        {
          "output_type": "execute_result",
          "data": {
            "text/plain": [
              "                                                   text     label\n",
              "0     The external electronic industry company Elcot...  negative\n",
              "1     The international electronic industry ship's c...  negative\n",
              "2     The international electronic industry companio...  negative\n",
              "3     The international electronic diligence company...  negative\n",
              "4     A tinyurl link engage users to a scamming site...  negative\n",
              "...                                                 ...       ...\n",
              "2411  Net sales of the Paper section decreased to EU...  negative\n",
              "2412  Sales in Republic of finland decreased by 10. ...  negative\n",
              "2413  Gross sales in Republic of finland lessen by 1...  negative\n",
              "2414  Sales in Republic of finland fall by 10. 5% in...  negative\n",
              "2415  Sales in Finland minify by x. 5% in January, w...  negative\n",
              "\n",
              "[2416 rows x 2 columns]"
            ],
            "text/html": [
              "\n",
              "  <div id=\"df-2de21a1a-5ba9-4b6b-a395-e4ec19156296\">\n",
              "    <div class=\"colab-df-container\">\n",
              "      <div>\n",
              "<style scoped>\n",
              "    .dataframe tbody tr th:only-of-type {\n",
              "        vertical-align: middle;\n",
              "    }\n",
              "\n",
              "    .dataframe tbody tr th {\n",
              "        vertical-align: top;\n",
              "    }\n",
              "\n",
              "    .dataframe thead th {\n",
              "        text-align: right;\n",
              "    }\n",
              "</style>\n",
              "<table border=\"1\" class=\"dataframe\">\n",
              "  <thead>\n",
              "    <tr style=\"text-align: right;\">\n",
              "      <th></th>\n",
              "      <th>text</th>\n",
              "      <th>label</th>\n",
              "    </tr>\n",
              "  </thead>\n",
              "  <tbody>\n",
              "    <tr>\n",
              "      <th>0</th>\n",
              "      <td>The external electronic industry company Elcot...</td>\n",
              "      <td>negative</td>\n",
              "    </tr>\n",
              "    <tr>\n",
              "      <th>1</th>\n",
              "      <td>The international electronic industry ship's c...</td>\n",
              "      <td>negative</td>\n",
              "    </tr>\n",
              "    <tr>\n",
              "      <th>2</th>\n",
              "      <td>The international electronic industry companio...</td>\n",
              "      <td>negative</td>\n",
              "    </tr>\n",
              "    <tr>\n",
              "      <th>3</th>\n",
              "      <td>The international electronic diligence company...</td>\n",
              "      <td>negative</td>\n",
              "    </tr>\n",
              "    <tr>\n",
              "      <th>4</th>\n",
              "      <td>A tinyurl link engage users to a scamming site...</td>\n",
              "      <td>negative</td>\n",
              "    </tr>\n",
              "    <tr>\n",
              "      <th>...</th>\n",
              "      <td>...</td>\n",
              "      <td>...</td>\n",
              "    </tr>\n",
              "    <tr>\n",
              "      <th>2411</th>\n",
              "      <td>Net sales of the Paper section decreased to EU...</td>\n",
              "      <td>negative</td>\n",
              "    </tr>\n",
              "    <tr>\n",
              "      <th>2412</th>\n",
              "      <td>Sales in Republic of finland decreased by 10. ...</td>\n",
              "      <td>negative</td>\n",
              "    </tr>\n",
              "    <tr>\n",
              "      <th>2413</th>\n",
              "      <td>Gross sales in Republic of finland lessen by 1...</td>\n",
              "      <td>negative</td>\n",
              "    </tr>\n",
              "    <tr>\n",
              "      <th>2414</th>\n",
              "      <td>Sales in Republic of finland fall by 10. 5% in...</td>\n",
              "      <td>negative</td>\n",
              "    </tr>\n",
              "    <tr>\n",
              "      <th>2415</th>\n",
              "      <td>Sales in Finland minify by x. 5% in January, w...</td>\n",
              "      <td>negative</td>\n",
              "    </tr>\n",
              "  </tbody>\n",
              "</table>\n",
              "<p>2416 rows × 2 columns</p>\n",
              "</div>\n",
              "      <button class=\"colab-df-convert\" onclick=\"convertToInteractive('df-2de21a1a-5ba9-4b6b-a395-e4ec19156296')\"\n",
              "              title=\"Convert this dataframe to an interactive table.\"\n",
              "              style=\"display:none;\">\n",
              "        \n",
              "  <svg xmlns=\"http://www.w3.org/2000/svg\" height=\"24px\"viewBox=\"0 0 24 24\"\n",
              "       width=\"24px\">\n",
              "    <path d=\"M0 0h24v24H0V0z\" fill=\"none\"/>\n",
              "    <path d=\"M18.56 5.44l.94 2.06.94-2.06 2.06-.94-2.06-.94-.94-2.06-.94 2.06-2.06.94zm-11 1L8.5 8.5l.94-2.06 2.06-.94-2.06-.94L8.5 2.5l-.94 2.06-2.06.94zm10 10l.94 2.06.94-2.06 2.06-.94-2.06-.94-.94-2.06-.94 2.06-2.06.94z\"/><path d=\"M17.41 7.96l-1.37-1.37c-.4-.4-.92-.59-1.43-.59-.52 0-1.04.2-1.43.59L10.3 9.45l-7.72 7.72c-.78.78-.78 2.05 0 2.83L4 21.41c.39.39.9.59 1.41.59.51 0 1.02-.2 1.41-.59l7.78-7.78 2.81-2.81c.8-.78.8-2.07 0-2.86zM5.41 20L4 18.59l7.72-7.72 1.47 1.35L5.41 20z\"/>\n",
              "  </svg>\n",
              "      </button>\n",
              "      \n",
              "  <style>\n",
              "    .colab-df-container {\n",
              "      display:flex;\n",
              "      flex-wrap:wrap;\n",
              "      gap: 12px;\n",
              "    }\n",
              "\n",
              "    .colab-df-convert {\n",
              "      background-color: #E8F0FE;\n",
              "      border: none;\n",
              "      border-radius: 50%;\n",
              "      cursor: pointer;\n",
              "      display: none;\n",
              "      fill: #1967D2;\n",
              "      height: 32px;\n",
              "      padding: 0 0 0 0;\n",
              "      width: 32px;\n",
              "    }\n",
              "\n",
              "    .colab-df-convert:hover {\n",
              "      background-color: #E2EBFA;\n",
              "      box-shadow: 0px 1px 2px rgba(60, 64, 67, 0.3), 0px 1px 3px 1px rgba(60, 64, 67, 0.15);\n",
              "      fill: #174EA6;\n",
              "    }\n",
              "\n",
              "    [theme=dark] .colab-df-convert {\n",
              "      background-color: #3B4455;\n",
              "      fill: #D2E3FC;\n",
              "    }\n",
              "\n",
              "    [theme=dark] .colab-df-convert:hover {\n",
              "      background-color: #434B5C;\n",
              "      box-shadow: 0px 1px 3px 1px rgba(0, 0, 0, 0.15);\n",
              "      filter: drop-shadow(0px 1px 2px rgba(0, 0, 0, 0.3));\n",
              "      fill: #FFFFFF;\n",
              "    }\n",
              "  </style>\n",
              "\n",
              "      <script>\n",
              "        const buttonEl =\n",
              "          document.querySelector('#df-2de21a1a-5ba9-4b6b-a395-e4ec19156296 button.colab-df-convert');\n",
              "        buttonEl.style.display =\n",
              "          google.colab.kernel.accessAllowed ? 'block' : 'none';\n",
              "\n",
              "        async function convertToInteractive(key) {\n",
              "          const element = document.querySelector('#df-2de21a1a-5ba9-4b6b-a395-e4ec19156296');\n",
              "          const dataTable =\n",
              "            await google.colab.kernel.invokeFunction('convertToInteractive',\n",
              "                                                     [key], {});\n",
              "          if (!dataTable) return;\n",
              "\n",
              "          const docLinkHtml = 'Like what you see? Visit the ' +\n",
              "            '<a target=\"_blank\" href=https://colab.research.google.com/notebooks/data_table.ipynb>data table notebook</a>'\n",
              "            + ' to learn more about interactive tables.';\n",
              "          element.innerHTML = '';\n",
              "          dataTable['output_type'] = 'display_data';\n",
              "          await google.colab.output.renderOutput(dataTable, element);\n",
              "          const docLink = document.createElement('div');\n",
              "          docLink.innerHTML = docLinkHtml;\n",
              "          element.appendChild(docLink);\n",
              "        }\n",
              "      </script>\n",
              "    </div>\n",
              "  </div>\n",
              "  "
            ]
          },
          "metadata": {},
          "execution_count": 13
        }
      ]
    },
    {
      "cell_type": "code",
      "source": [
        "new_df = pd.concat([df,new_negatives,new_positives],axis=0)"
      ],
      "metadata": {
        "id": "STDnzLTCSFeW"
      },
      "execution_count": null,
      "outputs": []
    },
    {
      "cell_type": "code",
      "source": [
        "new_df.label.loc[new_df.label==\"negative\"] = 0\n",
        "new_df.label.loc[new_df.label==\"neutral\"] = 1\n",
        "new_df.label.loc[new_df.label==\"positive\"] = 2"
      ],
      "metadata": {
        "id": "qi1JA5wKWSIy"
      },
      "execution_count": null,
      "outputs": []
    },
    {
      "cell_type": "code",
      "source": [
        "new_df.index = [i for i in range(8625)]"
      ],
      "metadata": {
        "id": "PMzfM4aDxzgb"
      },
      "execution_count": null,
      "outputs": []
    },
    {
      "cell_type": "code",
      "source": [
        "sns.histplot(x=new_df.label)"
      ],
      "metadata": {
        "colab": {
          "base_uri": "https://localhost:8080/",
          "height": 296
        },
        "id": "gUyan0fQxsEh",
        "outputId": "6a41ca33-e2fd-4e1a-f5ae-769195284624"
      },
      "execution_count": null,
      "outputs": [
        {
          "output_type": "execute_result",
          "data": {
            "text/plain": [
              "<matplotlib.axes._subplots.AxesSubplot at 0x7f75ce8966a0>"
            ]
          },
          "metadata": {},
          "execution_count": 17
        },
        {
          "output_type": "display_data",
          "data": {
            "text/plain": [
              "<Figure size 432x288 with 1 Axes>"
            ],
            "image/png": "[encoded data removed]"
          },
          "metadata": {
            "needs_background": "light"
          }
        }
      ]
    },
    {
      "cell_type": "code",
      "source": [
        "# re_poss = re.compile(r'\\'s')\n",
        "# re_clear = re.compile(r'[^a-zA-Z]+')\n",
        "\n",
        "# new_df.text = new_df.text.apply(lambda x: re_poss.sub(\" \",x)).apply(lambda x: re_clear.sub(\" \",x))"
      ],
      "metadata": {
        "id": "0nIuyePMWrbQ"
      },
      "execution_count": null,
      "outputs": []
    },
    {
      "cell_type": "code",
      "source": [
        "# nlp = spacy.load('en_core_web_sm')\n",
        "# new_df.text.apply(lambda x:' '.join([w.lemma_ for w in nlp(x)]).lower(),inplace=True)"
      ],
      "metadata": {
        "id": "f6kIo9pigxUy"
      },
      "execution_count": null,
      "outputs": []
    },
    {
      "cell_type": "code",
      "source": [
        "new_df.label.value_counts()"
      ],
      "metadata": {
        "colab": {
          "base_uri": "https://localhost:8080/"
        },
        "id": "kuf-aOkAS0rN",
        "outputId": "ce1ccb34-5739-4ca7-d029-dea11b9945da"
      },
      "execution_count": null,
      "outputs": [
        {
          "output_type": "execute_result",
          "data": {
            "text/plain": [
              "0    3020\n",
              "1    2879\n",
              "2    2726\n",
              "Name: label, dtype: int64"
            ]
          },
          "metadata": {},
          "execution_count": 20
        }
      ]
    },
    {
      "cell_type": "code",
      "source": [
        "sns.histplot(new_df.label)"
      ],
      "metadata": {
        "colab": {
          "base_uri": "https://localhost:8080/",
          "height": 296
        },
        "id": "7LC_gmoOSjFi",
        "outputId": "dd048cbb-1b11-48a0-f1dd-c8b9417aae2a"
      },
      "execution_count": null,
      "outputs": [
        {
          "output_type": "execute_result",
          "data": {
            "text/plain": [
              "<matplotlib.axes._subplots.AxesSubplot at 0x7f75ce7aa070>"
            ]
          },
          "metadata": {},
          "execution_count": 21
        },
        {
          "output_type": "display_data",
          "data": {
            "text/plain": [
              "<Figure size 432x288 with 1 Axes>"
            ],
            "image/png": "[encoded data removed]"
          },
          "metadata": {
            "needs_background": "light"
          }
        }
      ]
    },
    {
      "cell_type": "markdown",
      "source": [
        "#Modelo Dados\n",
        "\n"
      ],
      "metadata": {
        "id": "fNGJzKNe-Ch2"
      }
    },
    {
      "cell_type": "code",
      "source": [
        "x_train, x_valid, y_train, y_valid = train_test_split(new_df.text, new_df.label, train_size = .8)"
      ],
      "metadata": {
        "id": "ZZMGLJJ7_RtK"
      },
      "execution_count": null,
      "outputs": []
    },
    {
      "cell_type": "code",
      "source": [
        "def embedding_words(data):\n",
        "  emb_w = []\n",
        "  for idx, line in enumerate(data):\n",
        "    emb_l = global_vectors.get_vecs_by_tokens(tokenizer(line))\n",
        "    result = F.pad(input = emb_l,\n",
        "                  pad = (0,0,0,new_df.text.str.len().max()-emb_l.shape[0]),\n",
        "                  mode = \"constant\",\n",
        "                  value = 0)\n",
        "    emb_w.append(result)\n",
        "  return emb_w"
      ],
      "metadata": {
        "id": "XkXm0MhOGy7Q"
      },
      "execution_count": null,
      "outputs": []
    },
    {
      "cell_type": "code",
      "source": [
        "x_train_tensor = torch.stack(embedding_words(x_train))\n",
        "y_train_tensor = torch.tensor(y_train.values.astype('int'), dtype=torch.uint8)\n",
        "\n",
        "\n",
        "x_valid_tensor = torch.stack(embedding_words(x_valid))\n",
        "y_valid_tensor = torch.tensor(y_valid.values.astype('int'), dtype=torch.uint8)"
      ],
      "metadata": {
        "id": "LT8YYV-CQLIe"
      },
      "execution_count": null,
      "outputs": []
    },
    {
      "cell_type": "code",
      "source": [
        "dt_train = TensorDataset(x_train_tensor, y_train_tensor)\n",
        "dt_valid = TensorDataset(x_valid_tensor, y_valid_tensor)\n",
        "\n",
        "dl_train = DataLoader(dt_train, batch_size = 64, drop_last = True)\n",
        "dl_valid = DataLoader(dt_valid, batch_size = dt_valid.tensors[0].shape[0], drop_last = True)"
      ],
      "metadata": {
        "id": "jtS1BnDBQvUw"
      },
      "execution_count": null,
      "outputs": []
    },
    {
      "cell_type": "code",
      "source": [
        "for x, y in dl_train:\n",
        "  print(x.shape, y.shape)\n",
        "  break"
      ],
      "metadata": {
        "id": "RvVI3VbtTXbp",
        "colab": {
          "base_uri": "https://localhost:8080/"
        },
        "outputId": "81399844-4d0c-4e22-d904-401c0de89b0c"
      },
      "execution_count": null,
      "outputs": [
        {
          "output_type": "stream",
          "name": "stdout",
          "text": [
            "torch.Size([64, 331, 50]) torch.Size([64])\n"
          ]
        }
      ]
    },
    {
      "cell_type": "code",
      "source": [
        "for x, y in dl_valid:\n",
        "  print(x.shape, y.shape)\n",
        "  break"
      ],
      "metadata": {
        "id": "QbFW20gpHLza",
        "colab": {
          "base_uri": "https://localhost:8080/"
        },
        "outputId": "f4cda064-bc9b-438e-a714-c3e88f444235"
      },
      "execution_count": null,
      "outputs": [
        {
          "output_type": "stream",
          "name": "stdout",
          "text": [
            "torch.Size([1725, 331, 50]) torch.Size([1725])\n"
          ]
        }
      ]
    },
    {
      "cell_type": "markdown",
      "source": [
        "#Modelo LSTM"
      ],
      "metadata": {
        "id": "Dc9nmQ15SDKf"
      }
    },
    {
      "cell_type": "code",
      "source": [
        "class ModeloLSTM(nn.Module):\n",
        "  def __init__(self, input_size, num_hidden, num_layers):\n",
        "    super().__init__()\n",
        "\n",
        "    self.input_size = input_size\n",
        "    self.num_hidden = num_hidden\n",
        "    self.num_layers = num_layers\n",
        "\n",
        "    self.lstm = nn.LSTM(input_size,\n",
        "                        num_hidden,\n",
        "                        num_layers,\n",
        "                        batch_first = True,\n",
        "                        bidirectional = True)\n",
        "    \n",
        "    self.output = nn.Linear(num_hidden,3)\n",
        "\n",
        "  def forward(self, x):\n",
        "    self.lstm.flatten_parameters()\n",
        "\n",
        "    y, (hidden, _) = self.lstm(x)\n",
        "    o = self.output(hidden[-1])\n",
        "\n",
        "    return o"
      ],
      "metadata": {
        "id": "Zge8KhJjSFX3"
      },
      "execution_count": null,
      "outputs": []
    },
    {
      "cell_type": "code",
      "source": [
        "modelo = ModeloLSTM(input_size = 50,\n",
        "                   num_hidden = 32,\n",
        "                    num_layers = 2)\n",
        "lossfun = nn.CrossEntropyLoss()\n",
        "optimizer = torch.optim.AdamW(modelo.parameters(), lr=.001)"
      ],
      "metadata": {
        "id": "rreiL4odTQZi"
      },
      "execution_count": null,
      "outputs": []
    },
    {
      "cell_type": "code",
      "source": [
        "def train_model(modelo, lossfun, optimizer):\n",
        "  BestModel = {'acc':1, 'net':None}\n",
        "  epochs = 100\n",
        "  losses = np.zeros(epochs)\n",
        "\n",
        "  acc_train = []\n",
        "  acc_valid = []\n",
        "\n",
        "\n",
        "  for epochi in range(epochs):\n",
        "    modelo.to(device)\n",
        "    loss_ep = []\n",
        "    batch_acc = []\n",
        "    modelo.train()\n",
        "\n",
        "    for x,y in dl_train:\n",
        "      x = x.to(device)\n",
        "      y = y.to(device)\n",
        "\n",
        "      y_hat = modelo(x)\n",
        "      loss = lossfun(y_hat, y)\n",
        "\n",
        "      optimizer.zero_grad()\n",
        "      loss.backward()\n",
        "      optimizer.step()\n",
        "\n",
        "      loss_ep.append(loss.item())\n",
        "      batch_acc.append(100*torch.mean((torch.argmax(y_hat,axis=1) == y).float()).item())\n",
        "\n",
        "    losses[epochi] = np.mean(loss_ep)\n",
        "    acc_train.append(np.mean(batch_acc))\n",
        "\n",
        "    modelo.cpu().eval()\n",
        "    x, y = next(iter(dl_valid))\n",
        "    with torch.no_grad():\n",
        "      pred_y = torch.argmax(modelo(x), axis=1)\n",
        "    acc_valid.append(100*torch.mean((pred_y == y).float()).item())\n",
        "\n",
        "    if acc_valid[-1]>BestModel['acc']:\n",
        "      BestModel['acc'] = acc_valid[-1]\n",
        "      BestModel['net'] = copy.deepcopy(modelo.state_dict())\n",
        "  \n",
        "  return modelo, losses, acc_train, acc_valid, BestModel"
      ],
      "metadata": {
        "id": "mVVl1KtYUYMV"
      },
      "execution_count": null,
      "outputs": []
    },
    {
      "cell_type": "code",
      "source": [
        "modelo, losses, acc_train, acc_valid, BestModel = train_model(modelo, lossfun, optimizer)"
      ],
      "metadata": {
        "id": "yiMlNBM5Vb3j"
      },
      "execution_count": null,
      "outputs": []
    },
    {
      "cell_type": "code",
      "source": [
        "import matplotlib.pyplot as plt\n",
        "fig, ax = plt.subplots(1,2, figsize=(15,5))\n",
        "ax[0].plot(losses)\n",
        "ax[0].set_xlabel(\"epochs\")\n",
        "ax[0].set_ylabel(\"loss\")\n",
        "ax[0].set_title(f'loss:{losses[-1]:.4f}')\n",
        "ax[1].plot(acc_train)\n",
        "ax[1].plot(acc_valid)\n",
        "ax[1].set_xlabel(\"epochs\")\n",
        "ax[1].set_ylabel(\"acc\")\n",
        "ax[1].set_title(f'train_accuracy:{max(acc_train):.4f}/valid_accuracy:{max(acc_valid):.4f}')\n",
        "plt.show()"
      ],
      "metadata": {
        "colab": {
          "base_uri": "https://localhost:8080/",
          "height": 350
        },
        "id": "ghqFcHkZJHgx",
        "outputId": "302aad19-609b-404f-b7a8-57490574165d"
      },
      "execution_count": null,
      "outputs": [
        {
          "output_type": "display_data",
          "data": {
            "text/plain": [
              "<Figure size 1080x360 with 2 Axes>"
            ],
            "image/png": "[encoded data removed]"
          },
          "metadata": {
            "needs_background": "light"
          }
        }
      ]
    },
    {
      "cell_type": "code",
      "source": [
        "emb_l = global_vectors.get_vecs_by_tokens(tokenizer(\"Turkey stock market trading suspended after benchmark index falls 7%\"))\n",
        "result = F.pad(input = emb_l,\n",
        "                pad = (0,0,0,df.text.str.len().max()-emb_l.shape[0]),\n",
        "                mode = \"constant\",\n",
        "                value = 0)\n",
        "modelo(result)"
      ],
      "metadata": {
        "colab": {
          "base_uri": "https://localhost:8080/"
        },
        "id": "zeo5Ry9DDC91",
        "outputId": "00f633ef-0fc7-445e-8dfe-fd50beac2ac5"
      },
      "execution_count": null,
      "outputs": [
        {
          "output_type": "execute_result",
          "data": {
            "text/plain": [
              "tensor([-0.0937,  1.7847, -1.9180], grad_fn=<AddBackward0>)"
            ]
          },
          "metadata": {},
          "execution_count": 50
        }
      ]
    },
    {
      "cell_type": "code",
      "source": [
        "df.text[0]"
      ],
      "metadata": {
        "colab": {
          "base_uri": "https://localhost:8080/",
          "height": 53
        },
        "id": "R5OaOqlLJ5QI",
        "outputId": "00633e48-680e-4478-b36d-7a7e1559c801"
      },
      "execution_count": null,
      "outputs": [
        {
          "output_type": "execute_result",
          "data": {
            "text/plain": [
              "'According to Gran , the company has no plans to move all production to Russia , although that is where the company is growing .'"
            ],
            "application/vnd.google.colaboratory.intrinsic+json": {
              "type": "string"
            }
          },
          "metadata": {},
          "execution_count": 42
        }
      ]
    },
    {
      "cell_type": "code",
      "source": [
        "emb_l = global_vectors.get_vecs_by_tokens(tokenizer(df.text[0]))\n",
        "result = F.pad(input = emb_l,\n",
        "                pad = (0,0,0,df.text.str.len().max()-emb_l.shape[0]),\n",
        "                mode = \"constant\",\n",
        "                value = 0)"
      ],
      "metadata": {
        "id": "mabLSprKJ2hQ"
      },
      "execution_count": null,
      "outputs": []
    },
    {
      "cell_type": "code",
      "source": [
        "modeloCPU = modelo.cpu()"
      ],
      "metadata": {
        "id": "1OAFcBS7KE-j"
      },
      "execution_count": null,
      "outputs": []
    },
    {
      "cell_type": "code",
      "source": [
        "modeloCPU(result)"
      ],
      "metadata": {
        "colab": {
          "base_uri": "https://localhost:8080/"
        },
        "id": "ts9RK1FMKCDp",
        "outputId": "72797217-20ac-4af9-ccfb-9007e9b7ea33"
      },
      "execution_count": null,
      "outputs": [
        {
          "output_type": "execute_result",
          "data": {
            "text/plain": [
              "tensor([-8.6652,  4.2214,  0.0132], grad_fn=<AddBackward0>)"
            ]
          },
          "metadata": {},
          "execution_count": 45
        }
      ]
    },
    {
      "cell_type": "code",
      "source": [
        "bestModel = ModeloLSTM(input_size = 50,\n",
        "                   num_hidden = 16,\n",
        "                    num_layers = 2)\n",
        "bestModel.load_state_dict(BestModel['net'])"
      ],
      "metadata": {
        "id": "4HyiVsF9Xvoh"
      },
      "execution_count": null,
      "outputs": []
    },
    {
      "cell_type": "code",
      "source": [
        "torch.save(BestModel, 'nlpModel.pt')"
      ],
      "metadata": {
        "id": "oGi-2tR7YWqG"
      },
      "execution_count": null,
      "outputs": []
    },
    {
      "cell_type": "code",
      "source": [
        "torch.save(BestModel, 'nlpFinalModel.pt')"
      ],
      "metadata": {
        "id": "It-KNnUnFKrK"
      },
      "execution_count": null,
      "outputs": []
    },
    {
      "cell_type": "code",
      "source": [
        "modelo = ModeloLSTM(input_size = 50,\n",
        "                   num_hidden = 32,\n",
        "                    num_layers = 2)\n",
        "\n",
        "modelo.load_state_dict(torch.load(\"/content/nlpModel (2).pt\")['net'])"
      ],
      "metadata": {
        "colab": {
          "base_uri": "https://localhost:8080/"
        },
        "id": "Uq55Pgf55QAt",
        "outputId": "f9ee1dc9-e898-452b-ada7-1c3db2766bfb"
      },
      "execution_count": null,
      "outputs": [
        {
          "output_type": "execute_result",
          "data": {
            "text/plain": [
              "<All keys matched successfully>"
            ]
          },
          "metadata": {},
          "execution_count": 29
        }
      ]
    },
    {
      "cell_type": "code",
      "source": [
        "from sklearn.metrics import confusion_matrix, ConfusionMatrixDisplay\n",
        "for x, y in dl_valid:\n",
        "  y_unique = y.unique()\n",
        "  y_hat = modelo(x)\n",
        "  cm = confusion_matrix(y, torch.argmax(y_hat.detach(),axis=1),labels = y_unique)\n",
        "\n",
        "disp = ConfusionMatrixDisplay(cm)"
      ],
      "metadata": {
        "id": "GgMqyO8F5f5y"
      },
      "execution_count": null,
      "outputs": []
    },
    {
      "cell_type": "code",
      "source": [
        "disp.plot()"
      ],
      "metadata": {
        "colab": {
          "base_uri": "https://localhost:8080/",
          "height": 296
        },
        "id": "m9P17EvL7M3f",
        "outputId": "1a345b63-f5a4-4876-bcf5-cc2cde3b63be"
      },
      "execution_count": null,
      "outputs": [
        {
          "output_type": "execute_result",
          "data": {
            "text/plain": [
              "<sklearn.metrics._plot.confusion_matrix.ConfusionMatrixDisplay at 0x7fc5bff8c910>"
            ]
          },
          "metadata": {},
          "execution_count": 40
        },
        {
          "output_type": "display_data",
          "data": {
            "text/plain": [
              "<Figure size 432x288 with 2 Axes>"
            ],
            "image/png": "[encoded data removed]"
          },
          "metadata": {
            "needs_background": "light"
          }
        }
      ]
    },
    {
      "cell_type": "markdown",
      "source": [
        "#ModeloFinal"
      ],
      "metadata": {
        "id": "0uMEBbvK75wg"
      }
    },
    {
      "cell_type": "code",
      "source": [
        "x_Final = torch.stack(embedding_words(new_df.text))\n",
        "y_Final = torch.tensor(new_df.label.values.astype('int'), dtype=torch.uint8)"
      ],
      "metadata": {
        "id": "h7N6Rnka771I"
      },
      "execution_count": null,
      "outputs": []
    },
    {
      "cell_type": "code",
      "source": [
        "dt_Final = TensorDataset(x_Final, y_Final)\n",
        "\n",
        "dl_Final = DataLoader(dt_Final, batch_size = 64, drop_last = True, shuffle=True)"
      ],
      "metadata": {
        "id": "qPhPSnVA8QvK"
      },
      "execution_count": null,
      "outputs": []
    },
    {
      "cell_type": "code",
      "source": [
        "next(iter(dl_Final))[0].shape"
      ],
      "metadata": {
        "colab": {
          "base_uri": "https://localhost:8080/"
        },
        "id": "lMyUhl_dCnhI",
        "outputId": "39caa389-e1da-415a-ed1a-cb94bf9ba962"
      },
      "execution_count": null,
      "outputs": [
        {
          "output_type": "execute_result",
          "data": {
            "text/plain": [
              "torch.Size([64, 331, 50])"
            ]
          },
          "metadata": {},
          "execution_count": 30
        }
      ]
    },
    {
      "cell_type": "code",
      "source": [
        "def train_model(modelo, lossfun, optimizer):\n",
        "  BestModel = {'acc':1, 'net':None}\n",
        "  epochs = 50\n",
        "  losses = np.zeros(epochs)\n",
        "\n",
        "  acc_train = []\n",
        "\n",
        "  for epochi in range(epochs):\n",
        "    modelo.to(device)\n",
        "    loss_ep = []\n",
        "    batch_acc = []\n",
        "\n",
        "    for x,y in dl_Final:\n",
        "      x = x.to(device)\n",
        "      y = y.to(device)\n",
        "\n",
        "      y_hat = modelo(x)\n",
        "      loss = lossfun(y_hat, y)\n",
        "\n",
        "      optimizer.zero_grad()\n",
        "      loss.backward()\n",
        "      optimizer.step()\n",
        "\n",
        "      loss_ep.append(loss.item())\n",
        "      batch_acc.append(100*torch.mean((torch.argmax(y_hat,axis=1) == y).float()).item())\n",
        "\n",
        "    losses[epochi] = np.mean(loss_ep)\n",
        "    acc_train.append(np.mean(batch_acc))\n",
        "\n",
        "    if acc_train[-1]>BestModel['acc']:\n",
        "      BestModel['acc'] = acc_train[-1]\n",
        "      BestModel['net'] = copy.deepcopy(modelo.state_dict())\n",
        "  \n",
        "  return modelo, losses, acc_train, BestModel"
      ],
      "metadata": {
        "id": "WOaBAP1V8qJj"
      },
      "execution_count": null,
      "outputs": []
    },
    {
      "cell_type": "code",
      "source": [
        "modeloFinal = ModeloLSTM(input_size = 50,\n",
        "                   num_hidden = 32,\n",
        "                    num_layers = 2)\n",
        "lossfun = nn.CrossEntropyLoss()\n",
        "optimizer = torch.optim.AdamW(modeloFinal.parameters(), lr=.001)"
      ],
      "metadata": {
        "id": "QrouaJu-8hDo"
      },
      "execution_count": null,
      "outputs": []
    },
    {
      "cell_type": "code",
      "source": [
        "modeloFinal, losses, acc_train, BestModel = train_model(modeloFinal, lossfun, optimizer)"
      ],
      "metadata": {
        "id": "Mh8lyD1P8lhR"
      },
      "execution_count": null,
      "outputs": []
    },
    {
      "cell_type": "code",
      "source": [
        "import matplotlib.pyplot as plt\n",
        "fig, ax = plt.subplots(1,2, figsize=(15,5))\n",
        "ax[0].plot(losses)\n",
        "ax[0].set_xlabel(\"epochs\")\n",
        "ax[0].set_ylabel(\"loss\")\n",
        "ax[0].set_title(f'loss:{losses[-1]:.4f}')\n",
        "ax[1].plot(acc_train)\n",
        "ax[1].set_xlabel(\"epochs\")\n",
        "ax[1].set_ylabel(\"acc\")\n",
        "ax[1].set_title(f'train_accuracy:{max(acc_train):.4f}')\n",
        "plt.show()"
      ],
      "metadata": {
        "colab": {
          "base_uri": "https://localhost:8080/",
          "height": 350
        },
        "id": "HsSzf3sY9GsU",
        "outputId": "e4770cf7-6b9c-4a31-e3ed-673f80d2864a"
      },
      "execution_count": null,
      "outputs": [
        {
          "output_type": "display_data",
          "data": {
            "text/plain": [
              "<Figure size 1080x360 with 2 Axes>"
            ],
            "image/png": "[encoded data removed]"
          },
          "metadata": {
            "needs_background": "light"
          }
        }
      ]
    },
    {
      "cell_type": "code",
      "source": [
        "from sklearn.metrics import confusion_matrix, ConfusionMatrixDisplay\n",
        "for x, y in dl_valid:\n",
        "  y_unique = y.unique()\n",
        "  y_hat = modeloFinal.cpu()(x)\n",
        "  cm = confusion_matrix(y, torch.argmax(y_hat.detach(),axis=1),labels = y_unique)\n",
        "\n",
        "disp = ConfusionMatrixDisplay(cm)\n",
        "disp.plot()"
      ],
      "metadata": {
        "colab": {
          "base_uri": "https://localhost:8080/",
          "height": 296
        },
        "id": "4lDuTPl6DuYo",
        "outputId": "3c68411b-76a5-464e-aa33-18b8bbb3326f"
      },
      "execution_count": null,
      "outputs": [
        {
          "output_type": "execute_result",
          "data": {
            "text/plain": [
              "<sklearn.metrics._plot.confusion_matrix.ConfusionMatrixDisplay at 0x7f7611e99f70>"
            ]
          },
          "metadata": {},
          "execution_count": 91
        },
        {
          "output_type": "display_data",
          "data": {
            "text/plain": [
              "<Figure size 432x288 with 2 Axes>"
            ],
            "image/png": "[encoded data removed]"
          },
          "metadata": {
            "needs_background": "light"
          }
        }
      ]
    },
    {
      "cell_type": "code",
      "source": [
        "emb_l = global_vectors.get_vecs_by_tokens(tokenizer(\"bitcoin price keeps falling\"))\n",
        "result = F.pad(input = emb_l,\n",
        "                pad = (0,0,0,new_df.text.str.len().max()-emb_l.shape[0]),\n",
        "                mode = \"constant\",\n",
        "                value = 0)\n",
        "modeloFinal(result)"
      ],
      "metadata": {
        "colab": {
          "base_uri": "https://localhost:8080/"
        },
        "id": "rUc1eTVwFAsP",
        "outputId": "cb4dfe3b-410a-4bc9-b10c-199349cc74d8"
      },
      "execution_count": null,
      "outputs": [
        {
          "output_type": "execute_result",
          "data": {
            "text/plain": [
              "tensor([ 4.3239, -0.3051, -3.3746], grad_fn=<AddBackward0>)"
            ]
          },
          "metadata": {},
          "execution_count": 105
        }
      ]
    },
    {
      "cell_type": "code",
      "source": [
        "modeloTest = ModeloLSTM(input_size = 50,\n",
        "                   num_hidden = 32,\n",
        "                    num_layers = 2)\n",
        "modeloTest.load_state_dict(torch.load(\"/content/nlpModel (2).pt\")['net'])"
      ],
      "metadata": {
        "colab": {
          "base_uri": "https://localhost:8080/"
        },
        "id": "UBiP5l0PGFdz",
        "outputId": "09f262a9-6e1b-4a47-8a6c-0493ee2994ea"
      },
      "execution_count": null,
      "outputs": [
        {
          "output_type": "execute_result",
          "data": {
            "text/plain": [
              "<All keys matched successfully>"
            ]
          },
          "metadata": {},
          "execution_count": 51
        }
      ]
    },
    {
      "cell_type": "code",
      "source": [
        "modeloTest(result)"
      ],
      "metadata": {
        "colab": {
          "base_uri": "https://localhost:8080/"
        },
        "id": "uSwEd6vZGQ_L",
        "outputId": "f0f2e887-e635-4ae8-eba8-70ebcc0bb890"
      },
      "execution_count": null,
      "outputs": [
        {
          "output_type": "execute_result",
          "data": {
            "text/plain": [
              "tensor([ 0.1655,  2.1280, -1.3987], grad_fn=<AddBackward0>)"
            ]
          },
          "metadata": {},
          "execution_count": 106
        }
      ]
    },
    {
      "cell_type": "markdown",
      "source": [
        "#CNN-LSTM ????"
      ],
      "metadata": {
        "id": "2tqkdb_uaYBq"
      }
    },
    {
      "cell_type": "code",
      "source": [
        "class ModeloLSTM(nn.Module):\n",
        "  def __init__(self, input_size, num_hidden, num_layers):\n",
        "    super().__init__()\n",
        "\n",
        "    self.conv1 = F.conv2d(1,)\n",
        "    self.input_size = input_size\n",
        "    self.num_hidden = num_hidden\n",
        "    self.num_layers = num_layers\n",
        "\n",
        "    self.lstm = nn.LSTM(input_size,\n",
        "                        num_hidden,\n",
        "                        num_layers,\n",
        "                        batch_first = True,\n",
        "                        bidirectional = True)\n",
        "    \n",
        "    self.output = nn.Linear(num_hidden,3)\n",
        "\n",
        "  def forward(self, x):\n",
        "    self.lstm.flatten_parameters()\n",
        "\n",
        "    y, (hidden, _) = self.lstm(x)\n",
        "    o = self.output(hidden[-1])\n",
        "\n",
        "    return o"
      ],
      "metadata": {
        "id": "UyXalE_6aZja"
      },
      "execution_count": null,
      "outputs": []
    }
  ]
}